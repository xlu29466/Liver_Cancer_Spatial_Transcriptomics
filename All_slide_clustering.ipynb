{
 "cells": [
  {
   "cell_type": "markdown",
   "metadata": {},
   "source": [
    "# Clustering of spots to discover spatial regions of interest"
   ]
  },
  {
   "cell_type": "code",
   "execution_count": null,
   "metadata": {},
   "outputs": [],
   "source": [
    "import scanpy as sc\n",
    "import numpy as np\n",
    "import pandas as pd\n",
    "import anndata as ad\n",
    "import matplotlib.pyplot as plt\n",
    "from scipy.io import mmread\n",
    "sc.settings.n_jobs=4\n",
    "sc.set_figure_params(figsize=(6, 6), frameon=False)\n"
   ]
  },
  {
   "cell_type": "markdown",
   "metadata": {},
   "source": [
    "### List all slides"
   ]
  },
  {
   "cell_type": "code",
   "execution_count": null,
   "metadata": {},
   "outputs": [],
   "source": [
    "# create a dictionary of data paths\n",
    "data_dir_dict = {\n",
    "    # adjacent normal\n",
    "    'HCC_1N' : './raw_data/Adjacent/HCC-1N',\n",
    "    'HCC_2N' : './raw_data/Adjacent/HCC-2N',\n",
    "    'HCC_3N' : './raw_data/Adjacent/HCC-3N',\n",
    "    'HCC_4N' : './raw_data/Adjacent/HCC-4N',\n",
    "    'cHC_1N' : './raw_data/Adjacent/cHC-1N',\n",
    "\n",
    "    # leading edge\n",
    "    'HCC_1L' : './raw_data/Leading_Edge/HCC-1L',\n",
    "    'HCC_2L' : './raw_data/Leading_Edge/HCC-2L',\n",
    "    'HCC_3L' : './raw_data/Leading_Edge/HCC-3L',\n",
    "    'HCC_4L' : './raw_data/Leading_Edge/HCC-4L',\n",
    "    'cHC_1L' : './raw_data/Leading_Edge/cHC-1L',\n",
    "    'iCC_1L' : './raw_data/Leading_Edge/ICC-1L',\n",
    "\n",
    "    # primary tumor\n",
    "    'HCC_1T' : './raw_data/Primary_Tumor/HCC-1T',\n",
    "    'HCC_2T' : './raw_data/Primary_Tumor/HCC-2T',\n",
    "    'HCC_3T' : './raw_data/Primary_Tumor/HCC-3T',\n",
    "    'HCC_4T' : './raw_data/Primary_Tumor/HCC-4T',\n",
    "    'cHC_1T' : './raw_data/Primary_Tumor/cHC-1T'\n",
    "}"
   ]
  },
  {
   "cell_type": "code",
   "execution_count": null,
   "metadata": {},
   "outputs": [],
   "source": [
    "plt.rcParams['figure.dpi'] = 80\n",
    "plt.rcParams['savefig.dpi'] = 80"
   ]
  },
  {
   "cell_type": "code",
   "execution_count": null,
   "metadata": {},
   "outputs": [],
   "source": [
    "# Read in all slide and store in a dict\n",
    "adata_dict = {}\n",
    "for key, value in data_dir_dict.items():\n",
    "    adata = sc.read_visium(value)\n",
    "    adata.var_names_make_unique()\n",
    "    adata.obs['sample'] = key\n",
    "    # add slide name to obs index\n",
    "    adata.obs.index = key + '_' + adata.obs.index\n",
    "    adata_dict[key] = adata"
   ]
  },
  {
   "cell_type": "code",
   "execution_count": null,
   "metadata": {},
   "outputs": [],
   "source": [
    "# print out the number of genes and cells in each slide\n",
    "for key, value in adata_dict.items():\n",
    "    print(key, value.shape)"
   ]
  },
  {
   "cell_type": "markdown",
   "metadata": {},
   "source": [
    "### Plot spatial images of all slides"
   ]
  },
  {
   "cell_type": "code",
   "execution_count": null,
   "metadata": {},
   "outputs": [],
   "source": [
    "# plot images from each visium in a 4x4 grid\n",
    "fig, axes = plt.subplots(4, 4, figsize=(20, 20))\n",
    "for i, (key, value) in enumerate(adata_dict.items()):\n",
    "    sc.pl.spatial(value, img_key=\"hires\", ax=axes[i//4, i%4], alpha_img=1,show=False)\n",
    "    axes[i//4, i%4].set_title(key)"
   ]
  },
  {
   "cell_type": "markdown",
   "metadata": {},
   "source": [
    "### Qaulity control of spots\n",
    "1. remove genes with low counts\n",
    "2. remove spots with low counts\n",
    "3. select highly variable genes\n",
    "4. PCA\n",
    "5. Leiden clustering\n",
    "6. UMAP\n",
    "7. Harmony integration\n",
    "8. Leiden clustering\n",
    "9. UMAP"
   ]
  },
  {
   "cell_type": "code",
   "execution_count": null,
   "metadata": {},
   "outputs": [],
   "source": [
    "# label mitochondria genes and perform basic QC\n",
    "for key, value in adata_dict.items():\n",
    "    adata = adata_dict[key]\n",
    "    adata.var[\"mt\"] = adata.var_names.str.startswith(\"MT-\")\n",
    "    sc.pp.calculate_qc_metrics(adata, qc_vars=[\"mt\"], inplace=True)"
   ]
  },
  {
   "cell_type": "code",
   "execution_count": null,
   "metadata": {},
   "outputs": [],
   "source": [
    "# plot QC metrics\n",
    "for key, value in adata_dict.items():\n",
    "    adata = adata_dict[key]\n",
    "    print(key)\n",
    "    sc.pl.violin(adata, [\"n_genes_by_counts\", \"total_counts\", \"pct_counts_mt\"],\n",
    "                 jitter=0.0, multi_panel=True, show=False)\n",
    "    sc.pl.spatial(adata, img_key=\"hires\", color=[\"total_counts\", \"n_genes_by_counts\"])\n"
   ]
  },
  {
   "cell_type": "markdown",
   "metadata": {},
   "source": [
    "# Concatenate all slides\n"
   ]
  },
  {
   "cell_type": "code",
   "execution_count": null,
   "metadata": {},
   "outputs": [],
   "source": [
    "adata = ad.concat(adata_dict.values())\n",
    "adata.shape"
   ]
  },
  {
   "cell_type": "code",
   "execution_count": null,
   "metadata": {},
   "outputs": [],
   "source": [
    "sc.pl.highest_expr_genes(adata, n_top=20, )"
   ]
  },
  {
   "cell_type": "code",
   "execution_count": null,
   "metadata": {},
   "outputs": [],
   "source": [
    "adata.var[\"mt\"] = adata.var_names.str.startswith(\"MT-\")\n",
    "sc.pp.calculate_qc_metrics(adata, qc_vars=[\"mt\"], inplace=True)"
   ]
  },
  {
   "cell_type": "markdown",
   "metadata": {},
   "source": [
    "### Some standard QC cleaning"
   ]
  },
  {
   "cell_type": "code",
   "execution_count": null,
   "metadata": {},
   "outputs": [],
   "source": [
    "sc.pp.filter_cells(adata, min_genes=200)\n",
    "sc.pp.filter_genes(adata, min_cells=10)\n",
    "adata = adata[adata.obs.pct_counts_mt < 15, :].copy()\n",
    "sc.pp.normalize_total(adata, target_sum=1e4)\n",
    "sc.pp.log1p(adata, base=2)\n",
    "print(adata.shape)"
   ]
  },
  {
   "cell_type": "code",
   "execution_count": null,
   "metadata": {},
   "outputs": [],
   "source": [
    "sc.pp.highly_variable_genes(adata, n_top_genes=3000)\n",
    "adata.raw = adata\n",
    "adata = adata[:, adata.var.highly_variable]\n",
    "adata.shape"
   ]
  },
  {
   "cell_type": "code",
   "execution_count": null,
   "metadata": {},
   "outputs": [],
   "source": [
    "# perform PCA\n",
    "sc.pp.pca(adata, n_comps=50, use_highly_variable=True, svd_solver=\"arpack\")\n",
    "sc.pp.neighbors(adata, n_neighbors=30, n_pcs=50)\n",
    "sc.tl.leiden(adata, resolution=0.1250, key_added=\"leiden\")\n",
    "sc.tl.umap(adata)"
   ]
  },
  {
   "cell_type": "code",
   "execution_count": null,
   "metadata": {},
   "outputs": [],
   "source": [
    "sc.pl.umap(adata, color=[\"leiden\", \"sample\"],  show=False)"
   ]
  },
  {
   "cell_type": "markdown",
   "metadata": {},
   "source": [
    "### Display cluster according to sample type"
   ]
  },
  {
   "cell_type": "code",
   "execution_count": null,
   "metadata": {},
   "outputs": [],
   "source": [
    "# find samples ending with 'N' and plot umap\n",
    "adata_n = adata[adata.obs.sample.str.endswith('N'), :]\n",
    "sc.pl.umap(adata_n, color=[\"leiden\", \"sample\"],  show=False)\n",
    "adata_l = adata[adata.obs.sample.str.endswith('L'), :]\n",
    "sc.pl.umap(adata_l, color=[\"leiden\", \"sample\"],  show=False)\n",
    "adata_t = adata[adata.obs.sample.str.endswith('T'), :]\n",
    "sc.pl.umap(adata_t, color=[\"leiden\", \"sample\"],  show=False)"
   ]
  },
  {
   "cell_type": "markdown",
   "metadata": {},
   "source": [
    "### Remove batch effect using Harmony"
   ]
  },
  {
   "cell_type": "code",
   "execution_count": null,
   "metadata": {},
   "outputs": [],
   "source": [
    "# perform harmony batch correction, label the batch as sample\n",
    "sc.external.pp.harmony_integrate(adata, key=\"sample\")"
   ]
  },
  {
   "cell_type": "code",
   "execution_count": null,
   "metadata": {},
   "outputs": [],
   "source": [
    "# reclustering after batch correction\n",
    "sc.pp.neighbors(adata, n_neighbors=30, n_pcs=50, use_rep=\"X_pca_harmony\")\n",
    "sc.tl.leiden(adata, resolution=0.5, key_added=\"leiden_harmony\")\n",
    "sc.tl.umap(adata, min_dist=0.3)\n"
   ]
  },
  {
   "cell_type": "code",
   "execution_count": null,
   "metadata": {},
   "outputs": [],
   "source": [
    "\n",
    "sc.pl.umap(adata, color=[\"leiden_harmony\", \"sample\"],  show=False)"
   ]
  },
  {
   "cell_type": "markdown",
   "metadata": {},
   "source": []
  },
  {
   "cell_type": "markdown",
   "metadata": {},
   "source": [
    "### Add cell cluster label to each slides "
   ]
  },
  {
   "cell_type": "code",
   "execution_count": null,
   "metadata": {},
   "outputs": [],
   "source": [
    "for key, value in adata_dict.items():\n",
    "    adata_dict[key].obs['leiden_harmony'] = adata.obs['leiden_harmony'][adata.obs['sample'].str.contains(key)]\n",
    "    # sc.pl.spatial(adata, img_key=\"hires\", color=[\"leiden_harmony\"], show=False)"
   ]
  },
  {
   "cell_type": "markdown",
   "metadata": {},
   "source": [
    "### plot spatial images of all slides with cell cluster label"
   ]
  },
  {
   "cell_type": "code",
   "execution_count": null,
   "metadata": {},
   "outputs": [],
   "source": [
    "fig, axes = plt.subplots(4, 4, figsize=(20, 20))\n",
    "for i, (key, value) in enumerate(adata_dict.items()):\n",
    "    sc.pl.spatial(value, img_key=\"hires\", color=[\"leiden_harmony\"], ax=axes[i//4, i%4], alpha_img=1,show=False)\n",
    "    axes[i//4, i%4].set_title(key)"
   ]
  }
 ],
 "metadata": {
  "kernelspec": {
   "display_name": "base",
   "language": "python",
   "name": "python3"
  },
  "language_info": {
   "codemirror_mode": {
    "name": "ipython",
    "version": 3
   },
   "file_extension": ".py",
   "mimetype": "text/x-python",
   "name": "python",
   "nbconvert_exporter": "python",
   "pygments_lexer": "ipython3",
   "version": "3.11.5"
  },
  "orig_nbformat": 4
 },
 "nbformat": 4,
 "nbformat_minor": 2
}
