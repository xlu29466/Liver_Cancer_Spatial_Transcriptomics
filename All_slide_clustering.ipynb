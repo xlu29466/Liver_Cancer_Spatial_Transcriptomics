{
 "cells": [
  {
   "cell_type": "markdown",
   "metadata": {},
   "source": [
    "# Clustering of spots to discover spatial regions of interest"
   ]
  },
  {
   "cell_type": "code",
   "execution_count": 9,
   "metadata": {},
   "outputs": [],
   "source": [
    "import scanpy as sc\n",
    "import numpy as np\n",
    "import pandas as pd\n",
    "import anndata as ad\n",
    "import matplotlib.pyplot as plt\n",
    "from scipy.io import mmread\n",
    "sc.settings.n_jobs=4\n",
    "sc.set_figure_params(figsize=(6, 6), frameon=False)\n"
   ]
  },
  {
   "cell_type": "markdown",
   "metadata": {},
   "source": [
    "### List all slides"
   ]
  },
  {
   "cell_type": "code",
   "execution_count": 10,
   "metadata": {},
   "outputs": [],
   "source": [
    "# create a dictionary of data paths\n",
    "data_dir_dict = {\n",
    "    # adjacent normal\n",
    "    'HCC_1N' : './raw_data/Adjacent/HCC-1N',\n",
    "    'HCC_2N' : './raw_data/Adjacent/HCC-2N',\n",
    "    'HCC_3N' : './raw_data/Adjacent/HCC-3N',\n",
    "    'HCC_4N' : './raw_data/Adjacent/HCC-4N',\n",
    "    'cHC_1N' : './raw_data/Adjacent/cHC-1N',\n",
    "\n",
    "    # leading edge\n",
    "    'HCC_1L' : './raw_data/Leading_Edge/HCC-1L',\n",
    "    'HCC_2L' : './raw_data/Leading_Edge/HCC-2L',\n",
    "    'HCC_3L' : './raw_data/Leading_Edge/HCC-3L',\n",
    "    'HCC_4L' : './raw_data/Leading_Edge/HCC-4L',\n",
    "    'cHC_1L' : './raw_data/Leading_Edge/cHC-1L',\n",
    "    'iCC_1L' : './raw_data/Leading_Edge/ICC-1L',\n",
    "\n",
    "    # primary tumor\n",
    "    'HCC_1T' : './raw_data/Primary_Tumor/HCC-1T',\n",
    "    'HCC_2T' : './raw_data/Primary_Tumor/HCC-2T',\n",
    "    'HCC_3T' : './raw_data/Primary_Tumor/HCC-3T',\n",
    "    'HCC_4T' : './raw_data/Primary_Tumor/HCC-4T',\n",
    "    'cHC_1T' : './raw_data/Primary_Tumor/cHC-1T'\n",
    "}"
   ]
  },
  {
   "cell_type": "code",
   "execution_count": null,
   "metadata": {},
   "outputs": [],
   "source": [
    "# Read in all slide and store in a dict\n",
    "adata_dict = {}\n",
    "for key, value in data_dir_dict.items():\n",
    "    adata = sc.read_visium(value)\n",
    "    adata.var_names_make_unique()\n",
    "    adata.obs['sample'] = key\n",
    "    # add slide name to obs index\n",
    "    adata.obs.index = key + '_' + adata.obs.index\n",
    "    adata_dict[key] = adata"
   ]
  },
  {
   "cell_type": "markdown",
   "metadata": {},
   "source": [
    "### Plot spatial images of all slides"
   ]
  },
  {
   "cell_type": "code",
   "execution_count": null,
   "metadata": {},
   "outputs": [],
   "source": [
    "# plot images from each visium in a 4x4 grid\n",
    "fig, axes = plt.subplots(4, 4, figsize=(20, 20))\n",
    "for i, (key, value) in enumerate(adata_dict.items()):\n",
    "    sc.pl.spatial(value, img_key=\"hires\", ax=axes[i//4, i%4], alpha_img=1,show=False)\n",
    "    axes[i//4, i%4].set_title(key)"
   ]
  },
  {
   "cell_type": "markdown",
   "metadata": {},
   "source": [
    "### Qaulity control of spots\n",
    "1. remove genes with low counts\n",
    "2. remove spots with low counts\n",
    "3. select highly variable genes\n",
    "4. PCA\n",
    "5. Leiden clustering\n",
    "6. UMAP\n",
    "7. Harmony integration\n",
    "8. Leiden clustering\n",
    "9. UMAP"
   ]
  },
  {
   "cell_type": "code",
   "execution_count": null,
   "metadata": {},
   "outputs": [],
   "source": [
    "# label mitochondria genes and perform basic QC\n",
    "for key, value in adata_dict.items():\n",
    "    adata = adata_dict[key]\n",
    "    adata.var[\"mt\"] = adata.var_names.str.startswith(\"MT-\")\n",
    "    sc.pp.calculate_qc_metrics(adata, qc_vars=[\"mt\"], inplace=True)"
   ]
  },
  {
   "cell_type": "code",
   "execution_count": null,
   "metadata": {},
   "outputs": [],
   "source": [
    "# plot QC metrics\n",
    "for key, value in adata_dict.items():\n",
    "    adata = adata_dict[key]\n",
    "    print(key)\n",
    "    sc.pl.violin(adata, [\"n_genes_by_counts\", \"total_counts\", \"pct_counts_mt\"],\n",
    "                 jitter=0.0, multi_panel=True, show=False)\n",
    "    sc.pl.spatial(adata, img_key=\"hires\", color=[\"total_counts\", \"n_genes_by_counts\"])\n"
   ]
  },
  {
   "cell_type": "markdown",
   "metadata": {},
   "source": [
    "### Concatenate all slides\n"
   ]
  },
  {
   "cell_type": "code",
   "execution_count": 11,
   "metadata": {},
   "outputs": [
    {
     "data": {
      "text/plain": [
       "(65295, 33538)"
      ]
     },
     "execution_count": 11,
     "metadata": {},
     "output_type": "execute_result"
    }
   ],
   "source": [
    "adata = ad.concat(adata_dict.values())\n",
    "adata.shape"
   ]
  },
  {
   "cell_type": "code",
   "execution_count": 13,
   "metadata": {},
   "outputs": [],
   "source": [
    "sc.pp.highly_variable_genes(adata, flavor=\"seurat_v3\", n_top_genes=3000)"
   ]
  },
  {
   "cell_type": "code",
   "execution_count": 14,
   "metadata": {},
   "outputs": [
    {
     "data": {
      "text/plain": [
       "(65295, 3000)"
      ]
     },
     "execution_count": 14,
     "metadata": {},
     "output_type": "execute_result"
    }
   ],
   "source": [
    "# save highly variable genes\n",
    "adata.raw = adata\n",
    "adata = adata[:, adata.var.highly_variable]\n",
    "adata.shape"
   ]
  },
  {
   "cell_type": "code",
   "execution_count": null,
   "metadata": {},
   "outputs": [],
   "source": []
  }
 ],
 "metadata": {
  "kernelspec": {
   "display_name": "base",
   "language": "python",
   "name": "python3"
  },
  "language_info": {
   "codemirror_mode": {
    "name": "ipython",
    "version": 3
   },
   "file_extension": ".py",
   "mimetype": "text/x-python",
   "name": "python",
   "nbconvert_exporter": "python",
   "pygments_lexer": "ipython3",
   "version": "3.11.4"
  },
  "orig_nbformat": 4
 },
 "nbformat": 4,
 "nbformat_minor": 2
}
